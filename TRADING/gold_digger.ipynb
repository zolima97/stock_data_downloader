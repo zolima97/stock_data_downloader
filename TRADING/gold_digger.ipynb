{
 "cells": [
  {
   "cell_type": "code",
   "execution_count": 641,
   "metadata": {},
   "outputs": [],
   "source": [
    "import pandas as pd\n",
    "from sklearn.linear_model import LinearRegression\n",
    "import numpy as np\n",
    "import yfinance as yf\n",
    "from datetime import date\n",
    "from datetime import datetime\n",
    "from pandas_datareader import data\n",
    "import pandas_datareader as web"
   ]
  },
  {
   "cell_type": "code",
   "execution_count": 642,
   "metadata": {},
   "outputs": [
    {
     "name": "stdout",
     "output_type": "stream",
     "text": [
      "Today's date: 2022-07-02\n"
     ]
    }
   ],
   "source": [
    "today = date.today()\n",
    "\n",
    "print(\"Today's date:\", today)"
   ]
  },
  {
   "cell_type": "code",
   "execution_count": 643,
   "metadata": {},
   "outputs": [],
   "source": [
    "#stock = pd.read_csv(\"stock.csv\", compression='gzip', sep = \";\")"
   ]
  },
  {
   "cell_type": "code",
   "execution_count": 644,
   "metadata": {},
   "outputs": [],
   "source": [
    "stock = pd.read_parquet('stocks.parquet', engine='pyarrow')"
   ]
  },
  {
   "cell_type": "code",
   "execution_count": 645,
   "metadata": {},
   "outputs": [],
   "source": [
    "stock_bkp = stock.copy()"
   ]
  },
  {
   "cell_type": "code",
   "execution_count": 646,
   "metadata": {},
   "outputs": [],
   "source": [
    "#stock.set_index('Date', inplace = True)"
   ]
  },
  {
   "cell_type": "code",
   "execution_count": 647,
   "metadata": {},
   "outputs": [
    {
     "data": {
      "text/html": [
       "<div>\n",
       "<style scoped>\n",
       "    .dataframe tbody tr th:only-of-type {\n",
       "        vertical-align: middle;\n",
       "    }\n",
       "\n",
       "    .dataframe tbody tr th {\n",
       "        vertical-align: top;\n",
       "    }\n",
       "\n",
       "    .dataframe thead th {\n",
       "        text-align: right;\n",
       "    }\n",
       "</style>\n",
       "<table border=\"1\" class=\"dataframe\">\n",
       "  <thead>\n",
       "    <tr style=\"text-align: right;\">\n",
       "      <th></th>\n",
       "      <th>ticker</th>\n",
       "      <th>pct</th>\n",
       "    </tr>\n",
       "  </thead>\n",
       "  <tbody>\n",
       "  </tbody>\n",
       "</table>\n",
       "</div>"
      ],
      "text/plain": [
       "Empty DataFrame\n",
       "Columns: [ticker, pct]\n",
       "Index: []"
      ]
     },
     "execution_count": 647,
     "metadata": {},
     "output_type": "execute_result"
    }
   ],
   "source": [
    "column_names = [\"ticker\", \"pct\"]\n",
    "\n",
    "df = pd.DataFrame(columns = column_names)\n",
    "df"
   ]
  },
  {
   "cell_type": "code",
   "execution_count": 648,
   "metadata": {},
   "outputs": [],
   "source": [
    "columns_to_be_deleted= []\n",
    "for i in stock.columns:\n",
    "    if \".\" in i:\n",
    "        columns_to_be_deleted.append(i)"
   ]
  },
  {
   "cell_type": "code",
   "execution_count": 649,
   "metadata": {},
   "outputs": [],
   "source": [
    "stock.drop(columns_to_be_deleted, axis = 1, inplace = True)"
   ]
  },
  {
   "cell_type": "code",
   "execution_count": 650,
   "metadata": {},
   "outputs": [],
   "source": [
    "#replace null values with minimum values\n",
    "\n"
   ]
  },
  {
   "cell_type": "code",
   "execution_count": 651,
   "metadata": {},
   "outputs": [],
   "source": [
    "stock_pct = []\n",
    "stock_dat = pd.DataFrame(stock_pct)\n",
    "\n",
    "for i in stock.columns[1:]:\n",
    "    pct = round((stock[i].loc[\"2022-06-29\"]/stock[i].loc[\"2017-06-30\"]-1)*100, 2)\n",
    "    df_temp = [i, pct]\n",
    "    #pd.concat(df, df_temp)\n",
    "    df_length = len(df)\n",
    "    df.loc[df_length] = df_temp"
   ]
  },
  {
   "cell_type": "code",
   "execution_count": 652,
   "metadata": {},
   "outputs": [],
   "source": [
    "df[\"coef\"] = np.nan"
   ]
  },
  {
   "cell_type": "code",
   "execution_count": 653,
   "metadata": {},
   "outputs": [],
   "source": [
    "stock_order = stock.reset_index()"
   ]
  },
  {
   "cell_type": "code",
   "execution_count": 654,
   "metadata": {},
   "outputs": [],
   "source": [
    "for indice, i in df.iterrows():\n",
    "    ticker = i[\"ticker\"]\n",
    "    \n",
    "    x = stock_order.index.values.reshape(-1, 1)\n",
    "    y = stock_order[ticker].values.reshape(-1, 1)\n",
    "    x = np.nan_to_num(x)\n",
    "    y = np.nan_to_num(y)\n",
    "\n",
    "    reg = LinearRegression().fit(x, y)\n",
    "    coef = round(float(reg.coef_*100), 2)\n",
    "    #print(coef)\n",
    "    df.loc[df.index[indice], 'coef'] = coef\n"
   ]
  },
  {
   "cell_type": "code",
   "execution_count": 687,
   "metadata": {},
   "outputs": [],
   "source": [
    "df_order_perc = df.sort_values(by = [\"pct\"], ascending = [False]).reset_index()"
   ]
  },
  {
   "cell_type": "code",
   "execution_count": 705,
   "metadata": {},
   "outputs": [
    {
     "data": {
      "text/html": [
       "<div>\n",
       "<style scoped>\n",
       "    .dataframe tbody tr th:only-of-type {\n",
       "        vertical-align: middle;\n",
       "    }\n",
       "\n",
       "    .dataframe tbody tr th {\n",
       "        vertical-align: top;\n",
       "    }\n",
       "\n",
       "    .dataframe thead th {\n",
       "        text-align: right;\n",
       "    }\n",
       "</style>\n",
       "<table border=\"1\" class=\"dataframe\">\n",
       "  <thead>\n",
       "    <tr style=\"text-align: right;\">\n",
       "      <th></th>\n",
       "      <th>index</th>\n",
       "      <th>ticker</th>\n",
       "      <th>pct</th>\n",
       "      <th>coef</th>\n",
       "    </tr>\n",
       "  </thead>\n",
       "  <tbody>\n",
       "    <tr>\n",
       "      <th>50</th>\n",
       "      <td>5715</td>\n",
       "      <td>Close_ARMC</td>\n",
       "      <td>1536.36</td>\n",
       "      <td>0.01</td>\n",
       "    </tr>\n",
       "    <tr>\n",
       "      <th>51</th>\n",
       "      <td>2324</td>\n",
       "      <td>Close_DQ</td>\n",
       "      <td>1517.77</td>\n",
       "      <td>0.40</td>\n",
       "    </tr>\n",
       "    <tr>\n",
       "      <th>52</th>\n",
       "      <td>4933</td>\n",
       "      <td>Close_BOVNF</td>\n",
       "      <td>1404.21</td>\n",
       "      <td>0.03</td>\n",
       "    </tr>\n",
       "    <tr>\n",
       "      <th>53</th>\n",
       "      <td>4812</td>\n",
       "      <td>Close_ZYXI</td>\n",
       "      <td>1352.00</td>\n",
       "      <td>0.11</td>\n",
       "    </tr>\n",
       "    <tr>\n",
       "      <th>54</th>\n",
       "      <td>5671</td>\n",
       "      <td>Close_AQUI</td>\n",
       "      <td>1333.33</td>\n",
       "      <td>-0.06</td>\n",
       "    </tr>\n",
       "    <tr>\n",
       "      <th>55</th>\n",
       "      <td>4373</td>\n",
       "      <td>Close_TAYO</td>\n",
       "      <td>1307.04</td>\n",
       "      <td>0.00</td>\n",
       "    </tr>\n",
       "    <tr>\n",
       "      <th>56</th>\n",
       "      <td>5513</td>\n",
       "      <td>Close_AMWK</td>\n",
       "      <td>1257.14</td>\n",
       "      <td>0.00</td>\n",
       "    </tr>\n",
       "    <tr>\n",
       "      <th>57</th>\n",
       "      <td>4581</td>\n",
       "      <td>Close_VDMRF</td>\n",
       "      <td>1254.24</td>\n",
       "      <td>0.00</td>\n",
       "    </tr>\n",
       "    <tr>\n",
       "      <th>58</th>\n",
       "      <td>374</td>\n",
       "      <td>Close_ATLC</td>\n",
       "      <td>1221.80</td>\n",
       "      <td>-0.09</td>\n",
       "    </tr>\n",
       "    <tr>\n",
       "      <th>59</th>\n",
       "      <td>5649</td>\n",
       "      <td>Close_APSI</td>\n",
       "      <td>1124.50</td>\n",
       "      <td>0.00</td>\n",
       "    </tr>\n",
       "    <tr>\n",
       "      <th>60</th>\n",
       "      <td>4690</td>\n",
       "      <td>Close_WCHS</td>\n",
       "      <td>1120.00</td>\n",
       "      <td>0.02</td>\n",
       "    </tr>\n",
       "    <tr>\n",
       "      <th>61</th>\n",
       "      <td>3342</td>\n",
       "      <td>Close_ERHE</td>\n",
       "      <td>1000.00</td>\n",
       "      <td>-0.48</td>\n",
       "    </tr>\n",
       "    <tr>\n",
       "      <th>62</th>\n",
       "      <td>4589</td>\n",
       "      <td>Close_VGREF</td>\n",
       "      <td>966.67</td>\n",
       "      <td>0.01</td>\n",
       "    </tr>\n",
       "    <tr>\n",
       "      <th>63</th>\n",
       "      <td>5489</td>\n",
       "      <td>Close_ALVOF</td>\n",
       "      <td>959.78</td>\n",
       "      <td>0.03</td>\n",
       "    </tr>\n",
       "    <tr>\n",
       "      <th>64</th>\n",
       "      <td>3707</td>\n",
       "      <td>Close_FCIC</td>\n",
       "      <td>958.82</td>\n",
       "      <td>-0.01</td>\n",
       "    </tr>\n",
       "    <tr>\n",
       "      <th>65</th>\n",
       "      <td>688</td>\n",
       "      <td>Close_LEAS</td>\n",
       "      <td>950.00</td>\n",
       "      <td>-1750.38</td>\n",
       "    </tr>\n",
       "    <tr>\n",
       "      <th>66</th>\n",
       "      <td>1196</td>\n",
       "      <td>Close_BOOT</td>\n",
       "      <td>928.11</td>\n",
       "      <td>0.64</td>\n",
       "    </tr>\n",
       "    <tr>\n",
       "      <th>67</th>\n",
       "      <td>3176</td>\n",
       "      <td>Close_VTNR</td>\n",
       "      <td>919.63</td>\n",
       "      <td>-0.45</td>\n",
       "    </tr>\n",
       "    <tr>\n",
       "      <th>68</th>\n",
       "      <td>5530</td>\n",
       "      <td>Close_AMNCB</td>\n",
       "      <td>900.83</td>\n",
       "      <td>0.00</td>\n",
       "    </tr>\n",
       "    <tr>\n",
       "      <th>69</th>\n",
       "      <td>4820</td>\n",
       "      <td>Close_ZULU</td>\n",
       "      <td>900.00</td>\n",
       "      <td>-0.00</td>\n",
       "    </tr>\n",
       "  </tbody>\n",
       "</table>\n",
       "</div>"
      ],
      "text/plain": [
       "    index       ticker      pct     coef\n",
       "50   5715   Close_ARMC  1536.36     0.01\n",
       "51   2324     Close_DQ  1517.77     0.40\n",
       "52   4933  Close_BOVNF  1404.21     0.03\n",
       "53   4812   Close_ZYXI  1352.00     0.11\n",
       "54   5671   Close_AQUI  1333.33    -0.06\n",
       "55   4373   Close_TAYO  1307.04     0.00\n",
       "56   5513   Close_AMWK  1257.14     0.00\n",
       "57   4581  Close_VDMRF  1254.24     0.00\n",
       "58    374   Close_ATLC  1221.80    -0.09\n",
       "59   5649   Close_APSI  1124.50     0.00\n",
       "60   4690   Close_WCHS  1120.00     0.02\n",
       "61   3342   Close_ERHE  1000.00    -0.48\n",
       "62   4589  Close_VGREF   966.67     0.01\n",
       "63   5489  Close_ALVOF   959.78     0.03\n",
       "64   3707   Close_FCIC   958.82    -0.01\n",
       "65    688   Close_LEAS   950.00 -1750.38\n",
       "66   1196   Close_BOOT   928.11     0.64\n",
       "67   3176   Close_VTNR   919.63    -0.45\n",
       "68   5530  Close_AMNCB   900.83     0.00\n",
       "69   4820   Close_ZULU   900.00    -0.00"
      ]
     },
     "execution_count": 705,
     "metadata": {},
     "output_type": "execute_result"
    }
   ],
   "source": [
    "df_order_perc[50:70]"
   ]
  },
  {
   "cell_type": "code",
   "execution_count": 696,
   "metadata": {},
   "outputs": [
    {
     "data": {
      "text/html": [
       "<div>\n",
       "<style scoped>\n",
       "    .dataframe tbody tr th:only-of-type {\n",
       "        vertical-align: middle;\n",
       "    }\n",
       "\n",
       "    .dataframe tbody tr th {\n",
       "        vertical-align: top;\n",
       "    }\n",
       "\n",
       "    .dataframe thead th {\n",
       "        text-align: right;\n",
       "    }\n",
       "</style>\n",
       "<table border=\"1\" class=\"dataframe\">\n",
       "  <thead>\n",
       "    <tr style=\"text-align: right;\">\n",
       "      <th></th>\n",
       "      <th>index</th>\n",
       "      <th>ticker</th>\n",
       "      <th>pct</th>\n",
       "      <th>coef</th>\n",
       "    </tr>\n",
       "  </thead>\n",
       "  <tbody>\n",
       "    <tr>\n",
       "      <th>416</th>\n",
       "      <td>3</td>\n",
       "      <td>Close_GOOG</td>\n",
       "      <td>147.06</td>\n",
       "      <td>23.24</td>\n",
       "    </tr>\n",
       "  </tbody>\n",
       "</table>\n",
       "</div>"
      ],
      "text/plain": [
       "     index      ticker     pct   coef\n",
       "416      3  Close_GOOG  147.06  23.24"
      ]
     },
     "execution_count": 696,
     "metadata": {},
     "output_type": "execute_result"
    }
   ],
   "source": [
    "df_order_perc[df_order_perc[\"ticker\"] == \"Close_GOOG\"]"
   ]
  },
  {
   "cell_type": "code",
   "execution_count": 634,
   "metadata": {},
   "outputs": [
    {
     "data": {
      "text/html": [
       "<div>\n",
       "<style scoped>\n",
       "    .dataframe tbody tr th:only-of-type {\n",
       "        vertical-align: middle;\n",
       "    }\n",
       "\n",
       "    .dataframe tbody tr th {\n",
       "        vertical-align: top;\n",
       "    }\n",
       "\n",
       "    .dataframe thead th {\n",
       "        text-align: right;\n",
       "    }\n",
       "</style>\n",
       "<table border=\"1\" class=\"dataframe\">\n",
       "  <thead>\n",
       "    <tr style=\"text-align: right;\">\n",
       "      <th></th>\n",
       "      <th>ticker</th>\n",
       "      <th>pct</th>\n",
       "      <th>coef</th>\n",
       "    </tr>\n",
       "  </thead>\n",
       "  <tbody>\n",
       "    <tr>\n",
       "      <th>913</th>\n",
       "      <td>Close_IBM</td>\n",
       "      <td>19.2</td>\n",
       "      <td>0.72</td>\n",
       "    </tr>\n",
       "  </tbody>\n",
       "</table>\n",
       "</div>"
      ],
      "text/plain": [
       "        ticker   pct  coef\n",
       "913  Close_IBM  19.2  0.72"
      ]
     },
     "execution_count": 634,
     "metadata": {},
     "output_type": "execute_result"
    }
   ],
   "source": [
    "df_order_perc[df_order_perc[\"ticker\"] == \"Close_IBM\"]"
   ]
  },
  {
   "cell_type": "code",
   "execution_count": 636,
   "metadata": {},
   "outputs": [],
   "source": [
    "###df_order_coef = df.sort_values(by = \"coef\", ascending = False)"
   ]
  },
  {
   "cell_type": "code",
   "execution_count": 587,
   "metadata": {},
   "outputs": [
    {
     "data": {
      "text/html": [
       "<div>\n",
       "<style scoped>\n",
       "    .dataframe tbody tr th:only-of-type {\n",
       "        vertical-align: middle;\n",
       "    }\n",
       "\n",
       "    .dataframe tbody tr th {\n",
       "        vertical-align: top;\n",
       "    }\n",
       "\n",
       "    .dataframe thead th {\n",
       "        text-align: right;\n",
       "    }\n",
       "</style>\n",
       "<table border=\"1\" class=\"dataframe\">\n",
       "  <thead>\n",
       "    <tr style=\"text-align: right;\">\n",
       "      <th></th>\n",
       "      <th>ticker</th>\n",
       "      <th>pct</th>\n",
       "      <th>coef</th>\n",
       "    </tr>\n",
       "  </thead>\n",
       "  <tbody>\n",
       "    <tr>\n",
       "      <th>757</th>\n",
       "      <td>Close_ASCK</td>\n",
       "      <td>NaN</td>\n",
       "      <td>253495.57</td>\n",
       "    </tr>\n",
       "    <tr>\n",
       "      <th>3912</th>\n",
       "      <td>Close_FDBL</td>\n",
       "      <td>-100.00</td>\n",
       "      <td>5902.70</td>\n",
       "    </tr>\n",
       "    <tr>\n",
       "      <th>917</th>\n",
       "      <td>Close_BRK-A</td>\n",
       "      <td>242.54</td>\n",
       "      <td>3925.96</td>\n",
       "    </tr>\n",
       "    <tr>\n",
       "      <th>4121</th>\n",
       "      <td>Close_MWG</td>\n",
       "      <td>NaN</td>\n",
       "      <td>1359.36</td>\n",
       "    </tr>\n",
       "    <tr>\n",
       "      <th>58</th>\n",
       "      <td>Close_GAS</td>\n",
       "      <td>NaN</td>\n",
       "      <td>1351.70</td>\n",
       "    </tr>\n",
       "    <tr>\n",
       "      <th>1951</th>\n",
       "      <td>Close_NCT</td>\n",
       "      <td>NaN</td>\n",
       "      <td>1207.66</td>\n",
       "    </tr>\n",
       "    <tr>\n",
       "      <th>2382</th>\n",
       "      <td>Close_TNXP</td>\n",
       "      <td>NaN</td>\n",
       "      <td>937.42</td>\n",
       "    </tr>\n",
       "    <tr>\n",
       "      <th>3680</th>\n",
       "      <td>Close_FPT</td>\n",
       "      <td>NaN</td>\n",
       "      <td>788.54</td>\n",
       "    </tr>\n",
       "    <tr>\n",
       "      <th>2166</th>\n",
       "      <td>Close_NVIV</td>\n",
       "      <td>NaN</td>\n",
       "      <td>740.33</td>\n",
       "    </tr>\n",
       "    <tr>\n",
       "      <th>750</th>\n",
       "      <td>Close_CITY</td>\n",
       "      <td>-17.50</td>\n",
       "      <td>710.71</td>\n",
       "    </tr>\n",
       "    <tr>\n",
       "      <th>2147</th>\n",
       "      <td>Close_CLC</td>\n",
       "      <td>NaN</td>\n",
       "      <td>558.22</td>\n",
       "    </tr>\n",
       "    <tr>\n",
       "      <th>1492</th>\n",
       "      <td>Close_MCHB</td>\n",
       "      <td>90.57</td>\n",
       "      <td>430.55</td>\n",
       "    </tr>\n",
       "    <tr>\n",
       "      <th>851</th>\n",
       "      <td>Close_AYTU</td>\n",
       "      <td>-100.00</td>\n",
       "      <td>328.48</td>\n",
       "    </tr>\n",
       "    <tr>\n",
       "      <th>2346</th>\n",
       "      <td>Close_TCB</td>\n",
       "      <td>NaN</td>\n",
       "      <td>300.70</td>\n",
       "    </tr>\n",
       "    <tr>\n",
       "      <th>670</th>\n",
       "      <td>Close_AVGR</td>\n",
       "      <td>NaN</td>\n",
       "      <td>237.86</td>\n",
       "    </tr>\n",
       "    <tr>\n",
       "      <th>1655</th>\n",
       "      <td>Close_EMC</td>\n",
       "      <td>NaN</td>\n",
       "      <td>212.17</td>\n",
       "    </tr>\n",
       "    <tr>\n",
       "      <th>2677</th>\n",
       "      <td>Close_DCM</td>\n",
       "      <td>NaN</td>\n",
       "      <td>195.32</td>\n",
       "    </tr>\n",
       "    <tr>\n",
       "      <th>1626</th>\n",
       "      <td>Close_PCL</td>\n",
       "      <td>NaN</td>\n",
       "      <td>191.27</td>\n",
       "    </tr>\n",
       "    <tr>\n",
       "      <th>231</th>\n",
       "      <td>Close_BSI</td>\n",
       "      <td>NaN</td>\n",
       "      <td>180.31</td>\n",
       "    </tr>\n",
       "    <tr>\n",
       "      <th>3600</th>\n",
       "      <td>Close_TTF</td>\n",
       "      <td>NaN</td>\n",
       "      <td>129.53</td>\n",
       "    </tr>\n",
       "  </tbody>\n",
       "</table>\n",
       "</div>"
      ],
      "text/plain": [
       "           ticker     pct       coef\n",
       "757    Close_ASCK     NaN  253495.57\n",
       "3912   Close_FDBL -100.00    5902.70\n",
       "917   Close_BRK-A  242.54    3925.96\n",
       "4121    Close_MWG     NaN    1359.36\n",
       "58      Close_GAS     NaN    1351.70\n",
       "1951    Close_NCT     NaN    1207.66\n",
       "2382   Close_TNXP     NaN     937.42\n",
       "3680    Close_FPT     NaN     788.54\n",
       "2166   Close_NVIV     NaN     740.33\n",
       "750    Close_CITY  -17.50     710.71\n",
       "2147    Close_CLC     NaN     558.22\n",
       "1492   Close_MCHB   90.57     430.55\n",
       "851    Close_AYTU -100.00     328.48\n",
       "2346    Close_TCB     NaN     300.70\n",
       "670    Close_AVGR     NaN     237.86\n",
       "1655    Close_EMC     NaN     212.17\n",
       "2677    Close_DCM     NaN     195.32\n",
       "1626    Close_PCL     NaN     191.27\n",
       "231     Close_BSI     NaN     180.31\n",
       "3600    Close_TTF     NaN     129.53"
      ]
     },
     "execution_count": 587,
     "metadata": {},
     "output_type": "execute_result"
    }
   ],
   "source": [
    "df_order_coef[:20]"
   ]
  },
  {
   "cell_type": "code",
   "execution_count": null,
   "metadata": {},
   "outputs": [],
   "source": []
  },
  {
   "cell_type": "code",
   "execution_count": 667,
   "metadata": {},
   "outputs": [],
   "source": [
    "stock_bkp.reset_index(inplace = True)"
   ]
  },
  {
   "cell_type": "code",
   "execution_count": 704,
   "metadata": {},
   "outputs": [
    {
     "data": {
      "text/plain": [
       "(2.450000047683716, 0.019999999552965164)"
      ]
     },
     "execution_count": 704,
     "metadata": {},
     "output_type": "execute_result"
    }
   ],
   "source": [
    "stock.iloc[6865][\"Close_DTST\"], stock.iloc[6-(365*5)][\"Close_DTST\"]"
   ]
  },
  {
   "cell_type": "code",
   "execution_count": 681,
   "metadata": {},
   "outputs": [
    {
     "data": {
      "text/plain": [
       "11.999999534338734"
      ]
     },
     "execution_count": 681,
     "metadata": {},
     "output_type": "execute_result"
    }
   ],
   "source": [
    "stock_bkp.iloc[6869][\"Close_GTKP\"]/ stock_bkp.iloc[6869-(365*5)][\"Close_GTKP\"]"
   ]
  }
 ],
 "metadata": {
  "kernelspec": {
   "display_name": "Python 3",
   "language": "python",
   "name": "python3"
  },
  "language_info": {
   "codemirror_mode": {
    "name": "ipython",
    "version": 3
   },
   "file_extension": ".py",
   "mimetype": "text/x-python",
   "name": "python",
   "nbconvert_exporter": "python",
   "pygments_lexer": "ipython3",
   "version": "3.7.4"
  }
 },
 "nbformat": 4,
 "nbformat_minor": 2
}
